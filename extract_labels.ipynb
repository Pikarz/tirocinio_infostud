{
  "cells": [
    {
      "cell_type": "markdown",
      "metadata": {
        "id": "view-in-github",
        "colab_type": "text"
      },
      "source": [
        "<a href=\"https://colab.research.google.com/github/Pikarz/tirocinio_infostud/blob/main/extract_labels.ipynb\" target=\"_parent\"><img src=\"https://colab.research.google.com/assets/colab-badge.svg\" alt=\"Open In Colab\"/></a>"
      ]
    },
    {
      "cell_type": "markdown",
      "metadata": {
        "id": "l-jz6CXI67hX"
      },
      "source": [
        "# Estrazione labels\n",
        "\n",
        "Oggi 02/08/23 inizio a estrarre le labels delle anomalie che mi ha consegnato Enrico. Tali labels saranno utile per effettuare il training dei modelli OC-SVM e ARMA e di calcolare i valori di precision, recall e F1 di MSCRED.\n",
        "\n",
        "Tutti i file hanno una struttura tipo:\n",
        "\n",
        "---\n",
        "title: *name that expresses the details of the anomaly*\n",
        "\n",
        "date: *date start anomaly*\n",
        "\n",
        "resolved: *boolean*\n",
        "\n",
        "resolvedWhen: *date anomaly end*\n",
        "\n",
        "severity: *kind of severity (ie server was down)*\n",
        "\n",
        "affected:\n",
        "\n",
        "  - *list of affected services*\n",
        "---\n"
      ]
    },
    {
      "cell_type": "markdown",
      "metadata": {
        "id": "rrxvuXEG8TTs"
      },
      "source": [
        "#Setup"
      ]
    },
    {
      "cell_type": "code",
      "execution_count": null,
      "metadata": {
        "id": "OW1nsRt88S9b",
        "colab": {
          "base_uri": "https://localhost:8080/"
        },
        "outputId": "7054c9f5-13c0-4b3f-8644-3c9d97caa750"
      },
      "outputs": [
        {
          "output_type": "stream",
          "name": "stdout",
          "text": [
            "Mounted at /content/drive/\n"
          ]
        }
      ],
      "source": [
        "from google.colab import drive\n",
        "drive.mount('/content/drive/', force_remount=True)"
      ]
    },
    {
      "cell_type": "markdown",
      "metadata": {
        "id": "KsaeAV128WGX"
      },
      "source": [
        "# Estrazione lista tempi anomalie\n"
      ]
    },
    {
      "cell_type": "markdown",
      "metadata": {
        "id": "rTzH-4gTx_ZL"
      },
      "source": [
        "\n",
        "In questi pezzi di codice, dato il path di un file che rappresenta un'anomalia riscontrata, estraggo i suoi tempi di inizio e fine."
      ]
    },
    {
      "cell_type": "code",
      "execution_count": null,
      "metadata": {
        "id": "9KjGvjod8gWI"
      },
      "outputs": [],
      "source": [
        "file = './drive/MyDrive/Uni/Terzo Anno/Tirocinio/colab/issues/2018-12-13_guasto_prenotazioni.md'"
      ]
    },
    {
      "cell_type": "code",
      "execution_count": null,
      "metadata": {
        "id": "TxHIDm5DBzkH"
      },
      "outputs": [],
      "source": [
        "import datetime\n",
        "import time\n",
        "\n",
        "# Function to convert date string to Unix timestamp\n",
        "def convert_to_unix_timestamp(date_str):\n",
        "    dt = datetime.datetime.strptime(date_str, \"%Y-%m-%d %H:%M:%S\")\n",
        "    return int(time.mktime(dt.timetuple()))\n",
        "\n",
        "# Function to extract metadata from .md file\n",
        "def extract_metadata(file_path):\n",
        "    with open(file_path, 'r') as file:\n",
        "        return file.read()"
      ]
    },
    {
      "cell_type": "code",
      "execution_count": null,
      "metadata": {
        "id": "TY-FGyJ2_8Xw"
      },
      "outputs": [],
      "source": [
        "\n",
        "# Function to extract time range from a single .md file\n",
        "def extract_time_range_from_md_file(file_path):\n",
        "    metadata = extract_metadata(file_path)\n",
        "\n",
        "    # Extract the start and end dates from the metadata\n",
        "    start_date_str = metadata.split(\"date: \")[1].split(\"\\n\")[0].strip()\n",
        "    end_date_str = metadata.split(\"resolvedWhen: \")[1].split(\"\\n\")[0].strip()\n",
        "\n",
        "    # Convert start and end dates to Unix timestamps\n",
        "    start_timestamp = convert_to_unix_timestamp(start_date_str)\n",
        "    end_timestamp = convert_to_unix_timestamp(end_date_str)\n",
        "\n",
        "    return (start_timestamp, end_timestamp)\n"
      ]
    },
    {
      "cell_type": "code",
      "execution_count": null,
      "metadata": {
        "id": "pm5MG8fGAN-S",
        "colab": {
          "base_uri": "https://localhost:8080/"
        },
        "outputId": "82dfeb41-a54e-4fd1-b1e2-cb9b47666ffc"
      },
      "outputs": [
        {
          "output_type": "execute_result",
          "data": {
            "text/plain": [
              "(1544698740, 1544742000)"
            ]
          },
          "metadata": {},
          "execution_count": 5
        }
      ],
      "source": [
        "# test\n",
        "extract_time_range_from_md_file(file)"
      ]
    },
    {
      "cell_type": "markdown",
      "metadata": {
        "id": "5emdjTSJyKrZ"
      },
      "source": [
        "Ora generalizzo il concetto a più files, servendomi della funzione sopra"
      ]
    },
    {
      "cell_type": "code",
      "execution_count": null,
      "metadata": {
        "id": "ksZ7l5nBChJx"
      },
      "outputs": [],
      "source": [
        "# Function to create time range pairs (start, end) from multiple .md files\n",
        "def extract_time_ranges_from_md_files(md_files):\n",
        "    time_ranges = []\n",
        "\n",
        "    for file_path in md_files:\n",
        "        time_range = extract_time_range_from_md_file(file_path)\n",
        "        time_ranges.append(time_range)\n",
        "\n",
        "    return time_ranges"
      ]
    },
    {
      "cell_type": "code",
      "execution_count": null,
      "metadata": {
        "id": "pEGqqcxxC0pp"
      },
      "outputs": [],
      "source": [
        "import os\n",
        "\n",
        "# Example usage:\n",
        "# Provide the directory containing all the .md files\n",
        "md_directory = \"./drive/MyDrive/Uni/Terzo Anno/Tirocinio/colab/issues\"\n",
        "md_files = [os.path.join(md_directory, file) for file in os.listdir(md_directory) if file.endswith(\".md\")]\n",
        "\n",
        "time_ranges = extract_time_ranges_from_md_files(md_files)"
      ]
    },
    {
      "cell_type": "code",
      "execution_count": null,
      "metadata": {
        "id": "oaybOnVgDE-c",
        "colab": {
          "base_uri": "https://localhost:8080/"
        },
        "outputId": "9fb486c1-5eec-47ee-8593-7f42a7eac000"
      },
      "outputs": [
        {
          "output_type": "execute_result",
          "data": {
            "text/plain": [
              "102"
            ]
          },
          "metadata": {},
          "execution_count": 8
        }
      ],
      "source": [
        "len(time_ranges) # there are 102 .md files"
      ]
    },
    {
      "cell_type": "code",
      "execution_count": null,
      "metadata": {
        "id": "shggE2ZLDFiM",
        "colab": {
          "base_uri": "https://localhost:8080/"
        },
        "outputId": "6bed1543-3e80-4f48-95f7-a876e4890e67"
      },
      "outputs": [
        {
          "output_type": "execute_result",
          "data": {
            "text/plain": [
              "[(1568919180, 1568939160),\n",
              " (1563797220, 1563799500),\n",
              " (1571162400, 1571240760),\n",
              " (1557341160, 1557356400),\n",
              " (1610716140, 1610718480),\n",
              " (1607810400, 1607900400),\n",
              " (1592218740, 1592219220),\n",
              " (1568759280, 1568792400),\n",
              " (1544698740, 1544742000),\n",
              " (1569262020, 1569262500),\n",
              " (1548243720, 1548245220),\n",
              " (1609590300, 1609599600),\n",
              " (1592987580, 1593004860),\n",
              " (1557153000, 1557158400),\n",
              " (1551709800, 1551713400),\n",
              " (1575469800, 1575473400),\n",
              " (1558535400, 1558539000),\n",
              " (1568212200, 1568215800),\n",
              " (1580308200, 1580311800),\n",
              " (1576679400, 1576683000),\n",
              " (1576074600, 1576078200),\n",
              " (1586192400, 1586194200),\n",
              " (1558967400, 1558974600),\n",
              " (1562596200, 1562599800),\n",
              " (1557930600, 1557934200),\n",
              " (1598455800, 1598459400),\n",
              " (1592836200, 1592843400),\n",
              " (1601303400, 1601308800),\n",
              " (1561386600, 1561390200),\n",
              " (1598886000, 1598889600),\n",
              " (1571668200, 1571671800),\n",
              " (1560954600, 1560958200),\n",
              " (1574865000, 1574868600),\n",
              " (1588689000, 1588692600),\n",
              " (1560349800, 1560353400),\n",
              " (1585846800, 1585848600),\n",
              " (1559572200, 1559575800),\n",
              " (1571841000, 1571844600),\n",
              " (1584973800, 1584977400),\n",
              " (1556116200, 1556119800),\n",
              " (1561991400, 1561995000),\n",
              " (1563201000, 1563204600),\n",
              " (1562164200, 1562167800),\n",
              " (1573655400, 1573659000),\n",
              " (1607000400, 1607004000),\n",
              " (1581517800, 1581521400),\n",
              " (1585578600, 1585582200),\n",
              " (1602079200, 1602084600),\n",
              " (1581949800, 1581953400),\n",
              " (1583764200, 1583767800),\n",
              " (1573050600, 1573054200),\n",
              " (1591626600, 1591630200),\n",
              " (1568039400, 1568043000),\n",
              " (1563805800, 1563809400),\n",
              " (1557325800, 1557331200),\n",
              " (1570026600, 1570030200),\n",
              " (1551882600, 1551886200),\n",
              " (1584369000, 1584372600),\n",
              " (1562769000, 1562772600),\n",
              " (1573482600, 1573486200),\n",
              " (1575297000, 1575300600),\n",
              " (1571236200, 1571239800),\n",
              " (1574692200, 1574695800),\n",
              " (1591281000, 1591286400),\n",
              " (1563373800, 1563377400),\n",
              " (1568817000, 1568820600),\n",
              " (1591194600, 1591198200),\n",
              " (1561559400, 1561563000),\n",
              " (1569853800, 1569857400),\n",
              " (1590417000, 1590420600),\n",
              " (1579703400, 1579707000),\n",
              " (1574260200, 1574263800),\n",
              " (1600698600, 1600704000),\n",
              " (1580740200, 1580743800),\n",
              " (1593099000, 1593102600),\n",
              " (1584384240, 1584439200),\n",
              " (1592128980, 1592219220),\n",
              " (1607356800, 1607641200),\n",
              " (1568032920, 1568070000),\n",
              " (1601365200, 1601550000),\n",
              " (1576004340, 1576018800),\n",
              " (1547664000, 1547749020),\n",
              " (1551312000, 1551344400),\n",
              " (1559036100, 1559050320),\n",
              " (1561118700, 1561122420),\n",
              " (1562935380, 1562947200),\n",
              " (1567599600, 1567612800),\n",
              " (1602434580, 1602457200),\n",
              " (1609077600, 1609142400),\n",
              " (1595884260, 1595952000),\n",
              " (1544785200, 1544828400),\n",
              " (1555140600, 1555315200),\n",
              " (1568834880, 1568880000),\n",
              " (1572520500, 1572562800),\n",
              " (1611163800, 1611486600),\n",
              " (1611674520, 1611747600),\n",
              " (1611843600, 1611846120),\n",
              " (1611758400, 1611855000),\n",
              " (1611907200, 1612310400),\n",
              " (1567075080, 1567201560),\n",
              " (1613296800, 1613300400),\n",
              " (1613325000, 1613390400)]"
            ]
          },
          "metadata": {},
          "execution_count": 9
        }
      ],
      "source": [
        "time_ranges"
      ]
    },
    {
      "cell_type": "markdown",
      "metadata": {
        "id": "XQTpYBtkDrzf"
      },
      "source": [
        "# Load Time Series\n",
        "Funzione che estrae le time series da un tipo specifico di file. L'implementazione è spiegata nel file ```OC-SVM.ipynb```. Questa implementazione ha aggiunto anche la possibilità di scegliere in un intervallo di date specifico."
      ]
    },
    {
      "cell_type": "code",
      "execution_count": null,
      "metadata": {
        "id": "BcNtXfXIErjK"
      },
      "outputs": [],
      "source": [
        "import os\n",
        "import glob\n",
        "import pandas as pd\n",
        "from datetime import datetime\n",
        "\n",
        "def load_time_series(path, features, file_types, from_date=None, to_date=None, max_files=1, convert_to_timestamp=False, intersection=True):\n",
        "    df_all_files = []\n",
        "    file_counter = 0\n",
        "\n",
        "    for file_type in file_types:\n",
        "        json_dir = os.path.join(path, file_type + '*.json')\n",
        "        for file in sorted(glob.glob(json_dir)):\n",
        "            if file_counter >= max_files:\n",
        "                break\n",
        "\n",
        "            # Extract date and time substring\n",
        "            date_time_str = str(file).split('_')[-1].split('.')[0]\n",
        "            # Convert to datetime object\n",
        "            file_date = datetime.strptime(date_time_str, '%Y-%m-%dT%H-%M-%S')\n",
        "\n",
        "            try:\n",
        "                # check if the date of the file is in the range of from_date and to_date\n",
        "                if from_date is not None and file_date <= from_date:\n",
        "                    continue\n",
        "                if to_date is not None and file_date >= to_date:\n",
        "                    continue\n",
        "\n",
        "                print(\"Reading file \" + file + \"\\n\")\n",
        "                df = pd.read_json(file)\n",
        "                first_feature, remaining_features = features[0], features[1:]\n",
        "\n",
        "                df_single_file = pd.DataFrame(df['data']['result'][first_feature]['values'])\n",
        "                df_single_file.columns = ['timestamp', 'value' + str(first_feature)]\n",
        "                df_single_file.set_index('timestamp', inplace=True)\n",
        "                df_single_file['value' + str(first_feature)] = df_single_file['value' + str(first_feature)].astype(float)\n",
        "\n",
        "                for i in remaining_features:\n",
        "                    df_single_feature = pd.DataFrame(df['data']['result'][i]['values'])\n",
        "                    df_single_feature.columns = ['timestamp', 'value' + str(i)]\n",
        "                    df_single_feature.set_index('timestamp', inplace=True)\n",
        "\n",
        "                    if intersection:\n",
        "                        df_single_file = df_single_file.join(df_single_feature, how='inner')\n",
        "                    else:\n",
        "                        # Merge with alignment (asof merge) based on the nearest timestamp\n",
        "                        df_single_file = pd.merge_asof(df_single_file, df_single_feature, on='timestamp', direction='nearest')\n",
        "\n",
        "                        # Rename the columns to avoid conflicts when concatenating\n",
        "                        df_single_file.rename(columns={'value' + str(i) + '_x': 'value' + str(first_feature),\n",
        "                                                      'value' + str(i) + '_y': 'value' + str(i)}, inplace=True)\n",
        "\n",
        "                    df_single_file['value' + str(i)] = df_single_file['value' + str(i)].astype(float)\n",
        "\n",
        "                df_all_files.append(df_single_file)\n",
        "                file_counter += 1\n",
        "            except (IndexError, pd.errors.EmptyDataError):\n",
        "                print(\"skipped\\n\")\n",
        "                continue\n",
        "\n",
        "    df_all_files = pd.concat(df_all_files)\n",
        "\n",
        "    if convert_to_timestamp:\n",
        "        # You may choose to skip this step if the timestamps are already in datetime format.\n",
        "        df_all_files.index = pd.to_datetime(df_all_files.index, unit='s')\n",
        "\n",
        "    return df_all_files\n"
      ]
    },
    {
      "cell_type": "code",
      "source": [
        "path = './drive/MyDrive/Uni/Terzo Anno/Tirocinio/Dataset Infostud/'\n",
        "\n",
        "filename = ['compat_http_responses_']\n",
        "date_from = pd.to_datetime('2020-01-01')\n",
        "date_to = pd.to_datetime('2020-05-01')\n",
        "\n",
        "df_1 = load_time_series(path=path, from_date=date_from, to_date=date_to, features=[x for x in range(6)], file_types=filename, max_files=100, intersection=False)\n",
        "df_1.plot()\n"
      ],
      "metadata": {
        "colab": {
          "base_uri": "https://localhost:8080/",
          "height": 546
        },
        "id": "XmPV-YGLTKLj",
        "outputId": "34531d75-da33-4c87-959f-9110663ef95c"
      },
      "execution_count": null,
      "outputs": [
        {
          "output_type": "stream",
          "name": "stdout",
          "text": [
            "Reading file ./drive/MyDrive/Uni/Terzo Anno/Tirocinio/Dataset Infostud/compat_http_responses_2020-01-24T00-00-00.json\n",
            "\n",
            "Reading file ./drive/MyDrive/Uni/Terzo Anno/Tirocinio/Dataset Infostud/compat_http_responses_2020-02-23T00-00-00.json\n",
            "\n",
            "Reading file ./drive/MyDrive/Uni/Terzo Anno/Tirocinio/Dataset Infostud/compat_http_responses_2020-03-24T00-00-00.json\n",
            "\n"
          ]
        },
        {
          "output_type": "error",
          "ename": "OSError",
          "evalue": "ignored",
          "traceback": [
            "\u001b[0;31m---------------------------------------------------------------------------\u001b[0m",
            "\u001b[0;31mOSError\u001b[0m                                   Traceback (most recent call last)",
            "\u001b[0;32m/usr/local/lib/python3.10/dist-packages/pandas/io/json/_json.py\u001b[0m in \u001b[0;36m_preprocess_data\u001b[0;34m(self, data)\u001b[0m\n\u001b[1;32m    830\u001b[0m             \u001b[0;32mwith\u001b[0m \u001b[0mself\u001b[0m\u001b[0;34m:\u001b[0m\u001b[0;34m\u001b[0m\u001b[0;34m\u001b[0m\u001b[0m\n\u001b[0;32m--> 831\u001b[0;31m                 \u001b[0mdata\u001b[0m \u001b[0;34m=\u001b[0m \u001b[0mdata\u001b[0m\u001b[0;34m.\u001b[0m\u001b[0mread\u001b[0m\u001b[0;34m(\u001b[0m\u001b[0;34m)\u001b[0m\u001b[0;34m\u001b[0m\u001b[0;34m\u001b[0m\u001b[0m\n\u001b[0m\u001b[1;32m    832\u001b[0m         \u001b[0;32mif\u001b[0m \u001b[0;32mnot\u001b[0m \u001b[0mhasattr\u001b[0m\u001b[0;34m(\u001b[0m\u001b[0mdata\u001b[0m\u001b[0;34m,\u001b[0m \u001b[0;34m\"read\"\u001b[0m\u001b[0;34m)\u001b[0m \u001b[0;32mand\u001b[0m \u001b[0;34m(\u001b[0m\u001b[0mself\u001b[0m\u001b[0;34m.\u001b[0m\u001b[0mchunksize\u001b[0m \u001b[0;32mor\u001b[0m \u001b[0mself\u001b[0m\u001b[0;34m.\u001b[0m\u001b[0mnrows\u001b[0m\u001b[0;34m)\u001b[0m\u001b[0;34m:\u001b[0m\u001b[0;34m\u001b[0m\u001b[0;34m\u001b[0m\u001b[0m\n",
            "\u001b[0;31mOSError\u001b[0m: [Errno 107] Transport endpoint is not connected",
            "\nDuring handling of the above exception, another exception occurred:\n",
            "\u001b[0;31mOSError\u001b[0m                                   Traceback (most recent call last)",
            "\u001b[0;32m<ipython-input-4-ce034ffc24cc>\u001b[0m in \u001b[0;36m<cell line: 7>\u001b[0;34m()\u001b[0m\n\u001b[1;32m      5\u001b[0m \u001b[0mdate_to\u001b[0m \u001b[0;34m=\u001b[0m \u001b[0mpd\u001b[0m\u001b[0;34m.\u001b[0m\u001b[0mto_datetime\u001b[0m\u001b[0;34m(\u001b[0m\u001b[0;34m'2020-05-01'\u001b[0m\u001b[0;34m)\u001b[0m\u001b[0;34m\u001b[0m\u001b[0;34m\u001b[0m\u001b[0m\n\u001b[1;32m      6\u001b[0m \u001b[0;34m\u001b[0m\u001b[0m\n\u001b[0;32m----> 7\u001b[0;31m \u001b[0mdf_1\u001b[0m \u001b[0;34m=\u001b[0m \u001b[0mload_time_series\u001b[0m\u001b[0;34m(\u001b[0m\u001b[0mpath\u001b[0m\u001b[0;34m=\u001b[0m\u001b[0mpath\u001b[0m\u001b[0;34m,\u001b[0m \u001b[0mfrom_date\u001b[0m\u001b[0;34m=\u001b[0m\u001b[0mdate_from\u001b[0m\u001b[0;34m,\u001b[0m \u001b[0mto_date\u001b[0m\u001b[0;34m=\u001b[0m\u001b[0mdate_to\u001b[0m\u001b[0;34m,\u001b[0m \u001b[0mfeatures\u001b[0m\u001b[0;34m=\u001b[0m\u001b[0;34m[\u001b[0m\u001b[0mx\u001b[0m \u001b[0;32mfor\u001b[0m \u001b[0mx\u001b[0m \u001b[0;32min\u001b[0m \u001b[0mrange\u001b[0m\u001b[0;34m(\u001b[0m\u001b[0;36m6\u001b[0m\u001b[0;34m)\u001b[0m\u001b[0;34m]\u001b[0m\u001b[0;34m,\u001b[0m \u001b[0mfile_types\u001b[0m\u001b[0;34m=\u001b[0m\u001b[0mfilename\u001b[0m\u001b[0;34m,\u001b[0m \u001b[0mmax_files\u001b[0m\u001b[0;34m=\u001b[0m\u001b[0;36m100\u001b[0m\u001b[0;34m,\u001b[0m \u001b[0mintersection\u001b[0m\u001b[0;34m=\u001b[0m\u001b[0;32mFalse\u001b[0m\u001b[0;34m)\u001b[0m\u001b[0;34m\u001b[0m\u001b[0;34m\u001b[0m\u001b[0m\n\u001b[0m\u001b[1;32m      8\u001b[0m \u001b[0mdf_1\u001b[0m\u001b[0;34m.\u001b[0m\u001b[0mplot\u001b[0m\u001b[0;34m(\u001b[0m\u001b[0;34m)\u001b[0m\u001b[0;34m\u001b[0m\u001b[0;34m\u001b[0m\u001b[0m\n",
            "\u001b[0;32m<ipython-input-3-eb52e446630c>\u001b[0m in \u001b[0;36mload_time_series\u001b[0;34m(path, features, file_types, from_date, to_date, max_files, convert_to_timestamp, intersection)\u001b[0m\n\u001b[1;32m     27\u001b[0m \u001b[0;34m\u001b[0m\u001b[0m\n\u001b[1;32m     28\u001b[0m                 \u001b[0mprint\u001b[0m\u001b[0;34m(\u001b[0m\u001b[0;34m\"Reading file \"\u001b[0m \u001b[0;34m+\u001b[0m \u001b[0mfile\u001b[0m \u001b[0;34m+\u001b[0m \u001b[0;34m\"\\n\"\u001b[0m\u001b[0;34m)\u001b[0m\u001b[0;34m\u001b[0m\u001b[0;34m\u001b[0m\u001b[0m\n\u001b[0;32m---> 29\u001b[0;31m                 \u001b[0mdf\u001b[0m \u001b[0;34m=\u001b[0m \u001b[0mpd\u001b[0m\u001b[0;34m.\u001b[0m\u001b[0mread_json\u001b[0m\u001b[0;34m(\u001b[0m\u001b[0mfile\u001b[0m\u001b[0;34m)\u001b[0m\u001b[0;34m\u001b[0m\u001b[0;34m\u001b[0m\u001b[0m\n\u001b[0m\u001b[1;32m     30\u001b[0m                 \u001b[0mfirst_feature\u001b[0m\u001b[0;34m,\u001b[0m \u001b[0mremaining_features\u001b[0m \u001b[0;34m=\u001b[0m \u001b[0mfeatures\u001b[0m\u001b[0;34m[\u001b[0m\u001b[0;36m0\u001b[0m\u001b[0;34m]\u001b[0m\u001b[0;34m,\u001b[0m \u001b[0mfeatures\u001b[0m\u001b[0;34m[\u001b[0m\u001b[0;36m1\u001b[0m\u001b[0;34m:\u001b[0m\u001b[0;34m]\u001b[0m\u001b[0;34m\u001b[0m\u001b[0;34m\u001b[0m\u001b[0m\n\u001b[1;32m     31\u001b[0m \u001b[0;34m\u001b[0m\u001b[0m\n",
            "\u001b[0;32m/usr/local/lib/python3.10/dist-packages/pandas/util/_decorators.py\u001b[0m in \u001b[0;36mwrapper\u001b[0;34m(*args, **kwargs)\u001b[0m\n\u001b[1;32m    209\u001b[0m                 \u001b[0;32melse\u001b[0m\u001b[0;34m:\u001b[0m\u001b[0;34m\u001b[0m\u001b[0;34m\u001b[0m\u001b[0m\n\u001b[1;32m    210\u001b[0m                     \u001b[0mkwargs\u001b[0m\u001b[0;34m[\u001b[0m\u001b[0mnew_arg_name\u001b[0m\u001b[0;34m]\u001b[0m \u001b[0;34m=\u001b[0m \u001b[0mnew_arg_value\u001b[0m\u001b[0;34m\u001b[0m\u001b[0;34m\u001b[0m\u001b[0m\n\u001b[0;32m--> 211\u001b[0;31m             \u001b[0;32mreturn\u001b[0m \u001b[0mfunc\u001b[0m\u001b[0;34m(\u001b[0m\u001b[0;34m*\u001b[0m\u001b[0margs\u001b[0m\u001b[0;34m,\u001b[0m \u001b[0;34m**\u001b[0m\u001b[0mkwargs\u001b[0m\u001b[0;34m)\u001b[0m\u001b[0;34m\u001b[0m\u001b[0;34m\u001b[0m\u001b[0m\n\u001b[0m\u001b[1;32m    212\u001b[0m \u001b[0;34m\u001b[0m\u001b[0m\n\u001b[1;32m    213\u001b[0m         \u001b[0;32mreturn\u001b[0m \u001b[0mcast\u001b[0m\u001b[0;34m(\u001b[0m\u001b[0mF\u001b[0m\u001b[0;34m,\u001b[0m \u001b[0mwrapper\u001b[0m\u001b[0;34m)\u001b[0m\u001b[0;34m\u001b[0m\u001b[0;34m\u001b[0m\u001b[0m\n",
            "\u001b[0;32m/usr/local/lib/python3.10/dist-packages/pandas/util/_decorators.py\u001b[0m in \u001b[0;36mwrapper\u001b[0;34m(*args, **kwargs)\u001b[0m\n\u001b[1;32m    329\u001b[0m                     \u001b[0mstacklevel\u001b[0m\u001b[0;34m=\u001b[0m\u001b[0mfind_stack_level\u001b[0m\u001b[0;34m(\u001b[0m\u001b[0;34m)\u001b[0m\u001b[0;34m,\u001b[0m\u001b[0;34m\u001b[0m\u001b[0;34m\u001b[0m\u001b[0m\n\u001b[1;32m    330\u001b[0m                 )\n\u001b[0;32m--> 331\u001b[0;31m             \u001b[0;32mreturn\u001b[0m \u001b[0mfunc\u001b[0m\u001b[0;34m(\u001b[0m\u001b[0;34m*\u001b[0m\u001b[0margs\u001b[0m\u001b[0;34m,\u001b[0m \u001b[0;34m**\u001b[0m\u001b[0mkwargs\u001b[0m\u001b[0;34m)\u001b[0m\u001b[0;34m\u001b[0m\u001b[0;34m\u001b[0m\u001b[0m\n\u001b[0m\u001b[1;32m    332\u001b[0m \u001b[0;34m\u001b[0m\u001b[0m\n\u001b[1;32m    333\u001b[0m         \u001b[0;31m# error: \"Callable[[VarArg(Any), KwArg(Any)], Any]\" has no\u001b[0m\u001b[0;34m\u001b[0m\u001b[0;34m\u001b[0m\u001b[0m\n",
            "\u001b[0;32m/usr/local/lib/python3.10/dist-packages/pandas/io/json/_json.py\u001b[0m in \u001b[0;36mread_json\u001b[0;34m(path_or_buf, orient, typ, dtype, convert_axes, convert_dates, keep_default_dates, numpy, precise_float, date_unit, encoding, encoding_errors, lines, chunksize, compression, nrows, storage_options)\u001b[0m\n\u001b[1;32m    731\u001b[0m         \u001b[0mconvert_axes\u001b[0m \u001b[0;34m=\u001b[0m \u001b[0;32mTrue\u001b[0m\u001b[0;34m\u001b[0m\u001b[0;34m\u001b[0m\u001b[0m\n\u001b[1;32m    732\u001b[0m \u001b[0;34m\u001b[0m\u001b[0m\n\u001b[0;32m--> 733\u001b[0;31m     json_reader = JsonReader(\n\u001b[0m\u001b[1;32m    734\u001b[0m         \u001b[0mpath_or_buf\u001b[0m\u001b[0;34m,\u001b[0m\u001b[0;34m\u001b[0m\u001b[0;34m\u001b[0m\u001b[0m\n\u001b[1;32m    735\u001b[0m         \u001b[0morient\u001b[0m\u001b[0;34m=\u001b[0m\u001b[0morient\u001b[0m\u001b[0;34m,\u001b[0m\u001b[0;34m\u001b[0m\u001b[0;34m\u001b[0m\u001b[0m\n",
            "\u001b[0;32m/usr/local/lib/python3.10/dist-packages/pandas/io/json/_json.py\u001b[0m in \u001b[0;36m__init__\u001b[0;34m(self, filepath_or_buffer, orient, typ, dtype, convert_axes, convert_dates, keep_default_dates, numpy, precise_float, date_unit, encoding, lines, chunksize, compression, nrows, storage_options, encoding_errors)\u001b[0m\n\u001b[1;32m    817\u001b[0m \u001b[0;34m\u001b[0m\u001b[0m\n\u001b[1;32m    818\u001b[0m         \u001b[0mdata\u001b[0m \u001b[0;34m=\u001b[0m \u001b[0mself\u001b[0m\u001b[0;34m.\u001b[0m\u001b[0m_get_data_from_filepath\u001b[0m\u001b[0;34m(\u001b[0m\u001b[0mfilepath_or_buffer\u001b[0m\u001b[0;34m)\u001b[0m\u001b[0;34m\u001b[0m\u001b[0;34m\u001b[0m\u001b[0m\n\u001b[0;32m--> 819\u001b[0;31m         \u001b[0mself\u001b[0m\u001b[0;34m.\u001b[0m\u001b[0mdata\u001b[0m \u001b[0;34m=\u001b[0m \u001b[0mself\u001b[0m\u001b[0;34m.\u001b[0m\u001b[0m_preprocess_data\u001b[0m\u001b[0;34m(\u001b[0m\u001b[0mdata\u001b[0m\u001b[0;34m)\u001b[0m\u001b[0;34m\u001b[0m\u001b[0;34m\u001b[0m\u001b[0m\n\u001b[0m\u001b[1;32m    820\u001b[0m \u001b[0;34m\u001b[0m\u001b[0m\n\u001b[1;32m    821\u001b[0m     \u001b[0;32mdef\u001b[0m \u001b[0m_preprocess_data\u001b[0m\u001b[0;34m(\u001b[0m\u001b[0mself\u001b[0m\u001b[0;34m,\u001b[0m \u001b[0mdata\u001b[0m\u001b[0;34m)\u001b[0m\u001b[0;34m:\u001b[0m\u001b[0;34m\u001b[0m\u001b[0;34m\u001b[0m\u001b[0m\n",
            "\u001b[0;32m/usr/local/lib/python3.10/dist-packages/pandas/io/json/_json.py\u001b[0m in \u001b[0;36m_preprocess_data\u001b[0;34m(self, data)\u001b[0m\n\u001b[1;32m    828\u001b[0m         \"\"\"\n\u001b[1;32m    829\u001b[0m         \u001b[0;32mif\u001b[0m \u001b[0mhasattr\u001b[0m\u001b[0;34m(\u001b[0m\u001b[0mdata\u001b[0m\u001b[0;34m,\u001b[0m \u001b[0;34m\"read\"\u001b[0m\u001b[0;34m)\u001b[0m \u001b[0;32mand\u001b[0m \u001b[0;32mnot\u001b[0m \u001b[0;34m(\u001b[0m\u001b[0mself\u001b[0m\u001b[0;34m.\u001b[0m\u001b[0mchunksize\u001b[0m \u001b[0;32mor\u001b[0m \u001b[0mself\u001b[0m\u001b[0;34m.\u001b[0m\u001b[0mnrows\u001b[0m\u001b[0;34m)\u001b[0m\u001b[0;34m:\u001b[0m\u001b[0;34m\u001b[0m\u001b[0;34m\u001b[0m\u001b[0m\n\u001b[0;32m--> 830\u001b[0;31m             \u001b[0;32mwith\u001b[0m \u001b[0mself\u001b[0m\u001b[0;34m:\u001b[0m\u001b[0;34m\u001b[0m\u001b[0;34m\u001b[0m\u001b[0m\n\u001b[0m\u001b[1;32m    831\u001b[0m                 \u001b[0mdata\u001b[0m \u001b[0;34m=\u001b[0m \u001b[0mdata\u001b[0m\u001b[0;34m.\u001b[0m\u001b[0mread\u001b[0m\u001b[0;34m(\u001b[0m\u001b[0;34m)\u001b[0m\u001b[0;34m\u001b[0m\u001b[0;34m\u001b[0m\u001b[0m\n\u001b[1;32m    832\u001b[0m         \u001b[0;32mif\u001b[0m \u001b[0;32mnot\u001b[0m \u001b[0mhasattr\u001b[0m\u001b[0;34m(\u001b[0m\u001b[0mdata\u001b[0m\u001b[0;34m,\u001b[0m \u001b[0;34m\"read\"\u001b[0m\u001b[0;34m)\u001b[0m \u001b[0;32mand\u001b[0m \u001b[0;34m(\u001b[0m\u001b[0mself\u001b[0m\u001b[0;34m.\u001b[0m\u001b[0mchunksize\u001b[0m \u001b[0;32mor\u001b[0m \u001b[0mself\u001b[0m\u001b[0;34m.\u001b[0m\u001b[0mnrows\u001b[0m\u001b[0;34m)\u001b[0m\u001b[0;34m:\u001b[0m\u001b[0;34m\u001b[0m\u001b[0;34m\u001b[0m\u001b[0m\n",
            "\u001b[0;32m/usr/local/lib/python3.10/dist-packages/pandas/io/json/_json.py\u001b[0m in \u001b[0;36m__exit__\u001b[0;34m(self, exc_type, exc_value, traceback)\u001b[0m\n\u001b[1;32m    993\u001b[0m \u001b[0;34m\u001b[0m\u001b[0m\n\u001b[1;32m    994\u001b[0m     \u001b[0;32mdef\u001b[0m \u001b[0m__exit__\u001b[0m\u001b[0;34m(\u001b[0m\u001b[0mself\u001b[0m\u001b[0;34m,\u001b[0m \u001b[0mexc_type\u001b[0m\u001b[0;34m,\u001b[0m \u001b[0mexc_value\u001b[0m\u001b[0;34m,\u001b[0m \u001b[0mtraceback\u001b[0m\u001b[0;34m)\u001b[0m \u001b[0;34m->\u001b[0m \u001b[0;32mNone\u001b[0m\u001b[0;34m:\u001b[0m\u001b[0;34m\u001b[0m\u001b[0;34m\u001b[0m\u001b[0m\n\u001b[0;32m--> 995\u001b[0;31m         \u001b[0mself\u001b[0m\u001b[0;34m.\u001b[0m\u001b[0mclose\u001b[0m\u001b[0;34m(\u001b[0m\u001b[0;34m)\u001b[0m\u001b[0;34m\u001b[0m\u001b[0;34m\u001b[0m\u001b[0m\n\u001b[0m\u001b[1;32m    996\u001b[0m \u001b[0;34m\u001b[0m\u001b[0m\n\u001b[1;32m    997\u001b[0m \u001b[0;34m\u001b[0m\u001b[0m\n",
            "\u001b[0;32m/usr/local/lib/python3.10/dist-packages/pandas/io/json/_json.py\u001b[0m in \u001b[0;36mclose\u001b[0;34m(self)\u001b[0m\n\u001b[1;32m    952\u001b[0m         \"\"\"\n\u001b[1;32m    953\u001b[0m         \u001b[0;32mif\u001b[0m \u001b[0mself\u001b[0m\u001b[0;34m.\u001b[0m\u001b[0mhandles\u001b[0m \u001b[0;32mis\u001b[0m \u001b[0;32mnot\u001b[0m \u001b[0;32mNone\u001b[0m\u001b[0;34m:\u001b[0m\u001b[0;34m\u001b[0m\u001b[0;34m\u001b[0m\u001b[0m\n\u001b[0;32m--> 954\u001b[0;31m             \u001b[0mself\u001b[0m\u001b[0;34m.\u001b[0m\u001b[0mhandles\u001b[0m\u001b[0;34m.\u001b[0m\u001b[0mclose\u001b[0m\u001b[0;34m(\u001b[0m\u001b[0;34m)\u001b[0m\u001b[0;34m\u001b[0m\u001b[0;34m\u001b[0m\u001b[0m\n\u001b[0m\u001b[1;32m    955\u001b[0m \u001b[0;34m\u001b[0m\u001b[0m\n\u001b[1;32m    956\u001b[0m     \u001b[0;32mdef\u001b[0m \u001b[0m__iter__\u001b[0m\u001b[0;34m(\u001b[0m\u001b[0mself\u001b[0m\u001b[0;34m:\u001b[0m \u001b[0mJsonReader\u001b[0m\u001b[0;34m[\u001b[0m\u001b[0mFrameSeriesStrT\u001b[0m\u001b[0;34m]\u001b[0m\u001b[0;34m)\u001b[0m \u001b[0;34m->\u001b[0m \u001b[0mJsonReader\u001b[0m\u001b[0;34m[\u001b[0m\u001b[0mFrameSeriesStrT\u001b[0m\u001b[0;34m]\u001b[0m\u001b[0;34m:\u001b[0m\u001b[0;34m\u001b[0m\u001b[0;34m\u001b[0m\u001b[0m\n",
            "\u001b[0;32m/usr/local/lib/python3.10/dist-packages/pandas/io/common.py\u001b[0m in \u001b[0;36mclose\u001b[0;34m(self)\u001b[0m\n\u001b[1;32m    123\u001b[0m             \u001b[0mself\u001b[0m\u001b[0;34m.\u001b[0m\u001b[0mcreated_handles\u001b[0m\u001b[0;34m.\u001b[0m\u001b[0mremove\u001b[0m\u001b[0;34m(\u001b[0m\u001b[0mself\u001b[0m\u001b[0;34m.\u001b[0m\u001b[0mhandle\u001b[0m\u001b[0;34m)\u001b[0m\u001b[0;34m\u001b[0m\u001b[0;34m\u001b[0m\u001b[0m\n\u001b[1;32m    124\u001b[0m         \u001b[0;32mfor\u001b[0m \u001b[0mhandle\u001b[0m \u001b[0;32min\u001b[0m \u001b[0mself\u001b[0m\u001b[0;34m.\u001b[0m\u001b[0mcreated_handles\u001b[0m\u001b[0;34m:\u001b[0m\u001b[0;34m\u001b[0m\u001b[0;34m\u001b[0m\u001b[0m\n\u001b[0;32m--> 125\u001b[0;31m             \u001b[0mhandle\u001b[0m\u001b[0;34m.\u001b[0m\u001b[0mclose\u001b[0m\u001b[0;34m(\u001b[0m\u001b[0;34m)\u001b[0m\u001b[0;34m\u001b[0m\u001b[0;34m\u001b[0m\u001b[0m\n\u001b[0m\u001b[1;32m    126\u001b[0m         \u001b[0mself\u001b[0m\u001b[0;34m.\u001b[0m\u001b[0mcreated_handles\u001b[0m \u001b[0;34m=\u001b[0m \u001b[0;34m[\u001b[0m\u001b[0;34m]\u001b[0m\u001b[0;34m\u001b[0m\u001b[0;34m\u001b[0m\u001b[0m\n\u001b[1;32m    127\u001b[0m         \u001b[0mself\u001b[0m\u001b[0;34m.\u001b[0m\u001b[0mis_wrapped\u001b[0m \u001b[0;34m=\u001b[0m \u001b[0;32mFalse\u001b[0m\u001b[0;34m\u001b[0m\u001b[0;34m\u001b[0m\u001b[0m\n",
            "\u001b[0;31mOSError\u001b[0m: [Errno 107] Transport endpoint is not connected"
          ]
        }
      ]
    },
    {
      "cell_type": "markdown",
      "metadata": {
        "id": "g6D7VMTMyhpv"
      },
      "source": [
        "Estraggo tutte le osservazioni del file che riguarda le richieste http. Il range di date è il range più grande in cui non sono presenti reset"
      ]
    },
    {
      "cell_type": "code",
      "execution_count": null,
      "metadata": {
        "colab": {
          "base_uri": "https://localhost:8080/",
          "height": 691
        },
        "id": "QAgbx8xJHJDF",
        "outputId": "a56818ad-4b13-4c6d-d9e1-66a3436f7f39"
      },
      "outputs": [
        {
          "output_type": "stream",
          "name": "stdout",
          "text": [
            "Reading file ./drive/MyDrive/Uni/Terzo Anno/Tirocinio/Dataset Infostud/compat_http_responses_2021-11-14T00-00-00.json\n",
            "\n",
            "Reading file ./drive/MyDrive/Uni/Terzo Anno/Tirocinio/Dataset Infostud/compat_http_responses_2021-12-14T00-00-00.json\n",
            "\n",
            "Reading file ./drive/MyDrive/Uni/Terzo Anno/Tirocinio/Dataset Infostud/compat_http_responses_2022-01-13T00-00-00.json\n",
            "\n",
            "Reading file ./drive/MyDrive/Uni/Terzo Anno/Tirocinio/Dataset Infostud/compat_http_responses_2022-02-12T00-00-00.json\n",
            "\n",
            "Reading file ./drive/MyDrive/Uni/Terzo Anno/Tirocinio/Dataset Infostud/compat_http_responses_2022-03-14T00-00-00.json\n",
            "\n",
            "Reading file ./drive/MyDrive/Uni/Terzo Anno/Tirocinio/Dataset Infostud/compat_http_responses_2022-04-13T00-00-00.json\n",
            "\n"
          ]
        },
        {
          "output_type": "execute_result",
          "data": {
            "text/plain": [
              "<Axes: xlabel='timestamp'>"
            ]
          },
          "metadata": {},
          "execution_count": 115
        },
        {
          "output_type": "display_data",
          "data": {
            "text/plain": [
              "<Figure size 640x480 with 1 Axes>"
            ],
            "image/png": "[encoded data removed]"
          },
          "metadata": {}
        }
      ],
      "source": [
        "path = './drive/MyDrive/Uni/Terzo Anno/Tirocinio/Dataset Infostud/'\n",
        "\n",
        "filename = ['compat_http_responses_']\n",
        "date_from = pd.to_datetime('2021-11-01')\n",
        "date_to = pd.to_datetime('2022-05-01')\n",
        "\n",
        "df_1 = load_time_series(path=path, from_date=date_from, to_date=date_to, features=[x for x in range(6)], file_types=filename, max_files=100, intersection=False)\n",
        "df_1.plot()\n"
      ]
    },
    {
      "cell_type": "markdown",
      "metadata": {
        "id": "dCEgcUGpy1hw"
      },
      "source": [
        "Normalizzo"
      ]
    },
    {
      "cell_type": "code",
      "execution_count": null,
      "metadata": {
        "colab": {
          "base_uri": "https://localhost:8080/",
          "height": 466
        },
        "id": "hE1C7Zs1W5Kq",
        "outputId": "ae744993-98e6-4c69-d100-9ed020ca79ca"
      },
      "outputs": [
        {
          "output_type": "execute_result",
          "data": {
            "text/plain": [
              "<Axes: xlabel='timestamp'>"
            ]
          },
          "metadata": {},
          "execution_count": 113
        },
        {
          "output_type": "display_data",
          "data": {
            "text/plain": [
              "<Figure size 640x480 with 1 Axes>"
            ],
            "image/png": "[encoded data removed]"
          },
          "metadata": {}
        }
      ],
      "source": [
        "from sklearn.preprocessing import MinMaxScaler\n",
        "\n",
        "# Store the original index\n",
        "original_index = df_1.index\n",
        "\n",
        "# Create a MinMaxScaler object\n",
        "scaler = MinMaxScaler()\n",
        "\n",
        "# Drop the index, normalize the DataFrame using Min-Max scaling, and convert back to DataFrame\n",
        "normalized_data = scaler.fit_transform(df_1.values)\n",
        "normalized_df = pd.DataFrame(normalized_data, columns=df_1.columns)\n",
        "\n",
        "# Set the original index back to the normalized DataFrame\n",
        "normalized_df.index = original_index\n",
        "\n",
        "normalized_df.plot()"
      ]
    },
    {
      "cell_type": "code",
      "execution_count": null,
      "metadata": {
        "colab": {
          "base_uri": "https://localhost:8080/"
        },
        "id": "O1BMzs8uRYZ5",
        "outputId": "c76ba739-986d-45e9-8acf-654de11adbe6"
      },
      "outputs": [
        {
          "output_type": "stream",
          "name": "stdout",
          "text": [
            "First Timestamp (datetime): 2021-10-15 00:00:11.767000064\n",
            "Last Timestamp (datetime): 2022-04-12 23:59:47.885999872\n",
            "Number of 15-second windows between the first and last timestamps: 1036798\n",
            "Number of observations: 1032672\n",
            "The number of observations are close to the 15-second windows between the first and last timestamps!\n"
          ]
        }
      ],
      "source": [
        "# sanity check: make sure that the number of observations are close to the number of 15-seconds windows that exist between the initial and last timestamps\n",
        "import math\n",
        "\n",
        "# Convert the first timestamp to datetime\n",
        "first_timestamp_str = normalized_df.index[0]\n",
        "first_timestamp_datetime = pd.to_datetime(first_timestamp_str, unit='s')\n",
        "print(\"First Timestamp (datetime):\", first_timestamp_datetime)\n",
        "\n",
        "# Convert the last timestamp to datetime\n",
        "last_timestamp_str = normalized_df.index[-1]\n",
        "last_timestamp_datetime = pd.to_datetime(last_timestamp_str, unit='s')\n",
        "print(\"Last Timestamp (datetime):\", last_timestamp_datetime)\n",
        "\n",
        "# Calculate the time duration between the two datetimes\n",
        "time_duration = last_timestamp_datetime - first_timestamp_datetime\n",
        "\n",
        "# Calculate the number of 15-second windows since the data is, usually, observed every 15 seconds.\n",
        "seconds_in_15_seconds = 15\n",
        "number_of_windows = int(time_duration.total_seconds() / seconds_in_15_seconds)\n",
        "number_of_observations = normalized_df.shape[0]\n",
        "\n",
        "print(\"Number of 15-second windows between the first and last timestamps:\", number_of_windows)\n",
        "\n",
        "print(\"Number of observations:\", number_of_observations) # that's nice!\n",
        "if abs(number_of_windows - number_of_observations) <= number_of_windows/100:\n",
        "  print(\"The number of observations are close to the 15-second windows between the first and last timestamps!\")\n",
        "else:\n",
        "  print(\"the number of observations doesn't seem right.\")"
      ]
    }
  ],
  "metadata": {
    "colab": {
      "collapsed_sections": [
        "KsaeAV128WGX"
      ],
      "provenance": [],
      "authorship_tag": "ABX9TyMAwT43x8LqDjAB+4uykrR0",
      "include_colab_link": true
    },
    "kernelspec": {
      "display_name": "Python 3",
      "name": "python3"
    },
    "language_info": {
      "name": "python"
    }
  },
  "nbformat": 4,
  "nbformat_minor": 0
}